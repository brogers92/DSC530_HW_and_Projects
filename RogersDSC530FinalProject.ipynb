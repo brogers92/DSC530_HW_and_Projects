{
 "cells": [
  {
   "cell_type": "markdown",
   "id": "5cace6b9",
   "metadata": {},
   "source": [
    "# DSC530 Final Project"
   ]
  },
  {
   "cell_type": "markdown",
   "id": "23838385",
   "metadata": {},
   "source": [
    "## Exploring Offensive Stats of the 2019 NCAA Division 1-A Football Season"
   ]
  },
  {
   "cell_type": "markdown",
   "id": "f5e8b164",
   "metadata": {},
   "source": [
    "##### Bryan Rogers\n",
    "##### Bellevue University\n",
    "##### DSC530: Data Exploration and Analysis"
   ]
  },
  {
   "cell_type": "markdown",
   "id": "b7d8fb19",
   "metadata": {},
   "source": [
    "Hypothesis: that the more plays ran during a season, the more yards likely to be accumlated and thus a more successful season. "
   ]
  },
  {
   "cell_type": "code",
   "execution_count": 77,
   "id": "5faa36ab",
   "metadata": {},
   "outputs": [
    {
     "name": "stdout",
     "output_type": "stream",
     "text": [
      "Downloaded thinkstats2.py\n",
      "Downloaded thinkplot.py\n"
     ]
    }
   ],
   "source": [
    "from os.path import basename, exists\n",
    "\n",
    "\n",
    "def download(url):\n",
    "    filename = basename(url)\n",
    "    if not exists(filename):\n",
    "        from urllib.request import urlretrieve\n",
    "\n",
    "        local, _ = urlretrieve(url, filename)\n",
    "        print(\"Downloaded \" + local)\n",
    "\n",
    "\n",
    "download(\"https://github.com/AllenDowney/ThinkStats2/raw/master/code/thinkstats2.py\")\n",
    "download(\"https://github.com/AllenDowney/ThinkStats2/raw/master/code/thinkplot.py\")"
   ]
  },
  {
   "cell_type": "code",
   "execution_count": 78,
   "id": "9ab1653f",
   "metadata": {},
   "outputs": [],
   "source": [
    "import pandas as pd\n",
    "import numpy as np\n",
    "import matplotlib.pyplot as plt\n",
    "import thinkstats2\n",
    "import thinkplot"
   ]
  },
  {
   "cell_type": "code",
   "execution_count": 42,
   "id": "02a317f1",
   "metadata": {},
   "outputs": [
    {
     "data": {
      "text/html": [
       "<div>\n",
       "<style scoped>\n",
       "    .dataframe tbody tr th:only-of-type {\n",
       "        vertical-align: middle;\n",
       "    }\n",
       "\n",
       "    .dataframe tbody tr th {\n",
       "        vertical-align: top;\n",
       "    }\n",
       "\n",
       "    .dataframe thead th {\n",
       "        text-align: right;\n",
       "    }\n",
       "</style>\n",
       "<table border=\"1\" class=\"dataframe\">\n",
       "  <thead>\n",
       "    <tr style=\"text-align: right;\">\n",
       "      <th></th>\n",
       "      <th>UniversityName</th>\n",
       "      <th>Conference</th>\n",
       "      <th>Year</th>\n",
       "      <th>TeamID</th>\n",
       "      <th>CMP</th>\n",
       "      <th>ATT</th>\n",
       "      <th>YDS</th>\n",
       "      <th>CMPPercent</th>\n",
       "      <th>YPA</th>\n",
       "      <th>LNG</th>\n",
       "      <th>TD</th>\n",
       "      <th>INT</th>\n",
       "      <th>SACK</th>\n",
       "      <th>SYL</th>\n",
       "      <th>RTG</th>\n",
       "      <th>R_ATT</th>\n",
       "      <th>R_AVG</th>\n",
       "      <th>TOTAL_PLAYS</th>\n",
       "      <th>RUN_PERCENT</th>\n",
       "      <th>PASS_PERCENT</th>\n",
       "    </tr>\n",
       "  </thead>\n",
       "  <tbody>\n",
       "    <tr>\n",
       "      <th>0</th>\n",
       "      <td>AirForce</td>\n",
       "      <td>Mountian West</td>\n",
       "      <td>2019</td>\n",
       "      <td>AirForce2019</td>\n",
       "      <td>68</td>\n",
       "      <td>126</td>\n",
       "      <td>1602</td>\n",
       "      <td>54.0</td>\n",
       "      <td>12.7</td>\n",
       "      <td>81</td>\n",
       "      <td>14</td>\n",
       "      <td>6</td>\n",
       "      <td>4</td>\n",
       "      <td>-22</td>\n",
       "      <td>187.9</td>\n",
       "      <td>755</td>\n",
       "      <td>5.1</td>\n",
       "      <td>881</td>\n",
       "      <td>85.70%</td>\n",
       "      <td>14.30%</td>\n",
       "    </tr>\n",
       "    <tr>\n",
       "      <th>1</th>\n",
       "      <td>Akron</td>\n",
       "      <td>MAC</td>\n",
       "      <td>2019</td>\n",
       "      <td>Akron2019</td>\n",
       "      <td>204</td>\n",
       "      <td>398</td>\n",
       "      <td>2344</td>\n",
       "      <td>51.3</td>\n",
       "      <td>5.9</td>\n",
       "      <td>87</td>\n",
       "      <td>12</td>\n",
       "      <td>14</td>\n",
       "      <td>58</td>\n",
       "      <td>-328</td>\n",
       "      <td>103.6</td>\n",
       "      <td>327</td>\n",
       "      <td>1.7</td>\n",
       "      <td>725</td>\n",
       "      <td>45.10%</td>\n",
       "      <td>54.90%</td>\n",
       "    </tr>\n",
       "    <tr>\n",
       "      <th>2</th>\n",
       "      <td>Alabama</td>\n",
       "      <td>SEC</td>\n",
       "      <td>2019</td>\n",
       "      <td>Alabama2019</td>\n",
       "      <td>287</td>\n",
       "      <td>406</td>\n",
       "      <td>4449</td>\n",
       "      <td>70.7</td>\n",
       "      <td>11.0</td>\n",
       "      <td>85</td>\n",
       "      <td>49</td>\n",
       "      <td>6</td>\n",
       "      <td>12</td>\n",
       "      <td>-81</td>\n",
       "      <td>199.6</td>\n",
       "      <td>436</td>\n",
       "      <td>5.0</td>\n",
       "      <td>842</td>\n",
       "      <td>51.78%</td>\n",
       "      <td>48.22%</td>\n",
       "    </tr>\n",
       "    <tr>\n",
       "      <th>3</th>\n",
       "      <td>AppalachianState</td>\n",
       "      <td>SunBelt</td>\n",
       "      <td>2019</td>\n",
       "      <td>AppalachianState2019</td>\n",
       "      <td>231</td>\n",
       "      <td>370</td>\n",
       "      <td>2824</td>\n",
       "      <td>62.4</td>\n",
       "      <td>7.6</td>\n",
       "      <td>73</td>\n",
       "      <td>30</td>\n",
       "      <td>6</td>\n",
       "      <td>18</td>\n",
       "      <td>-107</td>\n",
       "      <td>150.1</td>\n",
       "      <td>599</td>\n",
       "      <td>5.4</td>\n",
       "      <td>969</td>\n",
       "      <td>61.82%</td>\n",
       "      <td>38.18%</td>\n",
       "    </tr>\n",
       "    <tr>\n",
       "      <th>4</th>\n",
       "      <td>Arizona</td>\n",
       "      <td>PAC-12</td>\n",
       "      <td>2019</td>\n",
       "      <td>Arizona2019</td>\n",
       "      <td>261</td>\n",
       "      <td>422</td>\n",
       "      <td>3193</td>\n",
       "      <td>61.8</td>\n",
       "      <td>7.6</td>\n",
       "      <td>75</td>\n",
       "      <td>23</td>\n",
       "      <td>12</td>\n",
       "      <td>33</td>\n",
       "      <td>-191</td>\n",
       "      <td>137.7</td>\n",
       "      <td>451</td>\n",
       "      <td>4.6</td>\n",
       "      <td>873</td>\n",
       "      <td>51.66%</td>\n",
       "      <td>48.34%</td>\n",
       "    </tr>\n",
       "  </tbody>\n",
       "</table>\n",
       "</div>"
      ],
      "text/plain": [
       "     UniversityName     Conference  Year                TeamID  CMP  ATT  \\\n",
       "0          AirForce  Mountian West  2019          AirForce2019   68  126   \n",
       "1             Akron            MAC  2019             Akron2019  204  398   \n",
       "2           Alabama            SEC  2019           Alabama2019  287  406   \n",
       "3  AppalachianState        SunBelt  2019  AppalachianState2019  231  370   \n",
       "4           Arizona         PAC-12  2019           Arizona2019  261  422   \n",
       "\n",
       "    YDS  CMPPercent   YPA  LNG  TD  INT  SACK  SYL    RTG  R_ATT  R_AVG  \\\n",
       "0  1602        54.0  12.7   81  14    6     4  -22  187.9    755    5.1   \n",
       "1  2344        51.3   5.9   87  12   14    58 -328  103.6    327    1.7   \n",
       "2  4449        70.7  11.0   85  49    6    12  -81  199.6    436    5.0   \n",
       "3  2824        62.4   7.6   73  30    6    18 -107  150.1    599    5.4   \n",
       "4  3193        61.8   7.6   75  23   12    33 -191  137.7    451    4.6   \n",
       "\n",
       "   TOTAL_PLAYS RUN_PERCENT PASS_PERCENT  \n",
       "0          881      85.70%       14.30%  \n",
       "1          725      45.10%       54.90%  \n",
       "2          842      51.78%       48.22%  \n",
       "3          969      61.82%       38.18%  \n",
       "4          873      51.66%       48.34%  "
      ]
     },
     "execution_count": 42,
     "metadata": {},
     "output_type": "execute_result"
    }
   ],
   "source": [
    "# Load the dataset\n",
    "cfb_data = pd.read_csv('College_Football_Dataset.csv')\n",
    "cfb_data.head()"
   ]
  },
  {
   "cell_type": "code",
   "execution_count": 43,
   "id": "495f1dd8",
   "metadata": {},
   "outputs": [
    {
     "data": {
      "text/plain": [
       "<bound method DataFrame.info of        UniversityName     Conference  Year                TeamID  CMP  ATT  \\\n",
       "0            AirForce  Mountian West  2019          AirForce2019   68  126   \n",
       "1               Akron            MAC  2019             Akron2019  204  398   \n",
       "2             Alabama            SEC  2019           Alabama2019  287  406   \n",
       "3    AppalachianState        SunBelt  2019  AppalachianState2019  231  370   \n",
       "4             Arizona         PAC-12  2019           Arizona2019  261  422   \n",
       "..                ...            ...   ...                   ...  ...  ...   \n",
       "123   WesternKentucky           CUSA  2019   WesternKentucky2019  313  469   \n",
       "124   WesternMichigan            MAC  2019   WesternMichigan2019  246  413   \n",
       "125      WestVirginia          Big12  2019      WestVirginia2019  289  454   \n",
       "126         Wisconsin          Big10  2019         Wisconsin2019  246  351   \n",
       "127           Wyoming   MountianWest  2019           Wyoming2019  120  256   \n",
       "\n",
       "      YDS  CMPPercent   YPA  LNG  TD  INT  SACK  SYL    RTG  R_ATT  R_AVG  \\\n",
       "0    1602        54.0  12.7   81  14    6     4  -22  187.9    755    5.1   \n",
       "1    2344        51.3   5.9   87  12   14    58 -328  103.6    327    1.7   \n",
       "2    4449        70.7  11.0   85  49    6    12  -81  199.6    436    5.0   \n",
       "3    2824        62.4   7.6   73  30    6    18 -107  150.1    599    5.4   \n",
       "4    3193        61.8   7.6   75  23   12    33 -191  137.7    451    4.6   \n",
       "..    ...         ...   ...  ...  ..  ...   ...  ...    ...    ...    ...   \n",
       "123  3371        66.7   7.2   77  20   12    20 -130  136.1    431    3.9   \n",
       "124  3128        59.6   7.6   61  21    8    18 -122  136.1    503    5.3   \n",
       "125  2984        63.7   6.6   83  21   15    21 -145  127.5    334    2.6   \n",
       "126  2802        70.1   8.0   70  18    5    20 -121  151.2    612    5.3   \n",
       "127  1770        46.9   6.9   63  11    9    21 -142  112.1    575    4.9   \n",
       "\n",
       "     TOTAL_PLAYS RUN_PERCENT PASS_PERCENT  \n",
       "0            881      85.70%       14.30%  \n",
       "1            725      45.10%       54.90%  \n",
       "2            842      51.78%       48.22%  \n",
       "3            969      61.82%       38.18%  \n",
       "4            873      51.66%       48.34%  \n",
       "..           ...         ...          ...  \n",
       "123          900      47.89%       52.11%  \n",
       "124          916      54.91%       45.09%  \n",
       "125          788      42.39%       57.61%  \n",
       "126          963      63.55%       36.45%  \n",
       "127          831      69.19%       30.81%  \n",
       "\n",
       "[128 rows x 20 columns]>"
      ]
     },
     "execution_count": 43,
     "metadata": {},
     "output_type": "execute_result"
    }
   ],
   "source": [
    "cfb_data.info"
   ]
  },
  {
   "cell_type": "code",
   "execution_count": 44,
   "id": "40b0007e",
   "metadata": {},
   "outputs": [
    {
     "data": {
      "text/plain": [
       "UniversityName    0\n",
       "Conference        0\n",
       "Year              0\n",
       "TeamID            0\n",
       "CMP               0\n",
       "ATT               0\n",
       "YDS               0\n",
       "CMPPercent        0\n",
       "YPA               0\n",
       "LNG               0\n",
       "TD                0\n",
       "INT               0\n",
       "SACK              0\n",
       "SYL               0\n",
       "RTG               0\n",
       "R_ATT             0\n",
       "R_AVG             0\n",
       "TOTAL_PLAYS       0\n",
       "RUN_PERCENT       0\n",
       "PASS_PERCENT      0\n",
       "dtype: int64"
      ]
     },
     "execution_count": 44,
     "metadata": {},
     "output_type": "execute_result"
    }
   ],
   "source": [
    "cfb_data.isnull().sum()"
   ]
  },
  {
   "cell_type": "code",
   "execution_count": 45,
   "id": "f70211be",
   "metadata": {},
   "outputs": [],
   "source": [
    "cfb_data2 = cfb_data.rename(columns={'UniversityName': 'University', 'CMP': 'Completions', 'ATT': 'Attempts', 'YDS': 'Yards', 'CMPPercent': 'Completion_Percentage',\n",
    "                         'YPA': 'Yards_per_Attempt', 'LNG': 'Longest_Completions', 'TD': 'Touchdowns', 'INT': 'Interceptions', 'SACK': 'Sacks',\n",
    "                         'SYL': 'Sack_Yards_Lost', 'RTG': 'Rushing_Yards_per_Game', 'R_ATT': 'Rushing_Attempts', 'R_AVG': 'Average_per_Rush',\n",
    "                         'TOTAL_PLAYS': 'Total_Plays', 'RUN_PERCENT': 'Run_Percentage', 'PASS_PERCENT': 'Pass_Percentage'})\n",
    "                                                    "
   ]
  },
  {
   "cell_type": "code",
   "execution_count": 46,
   "id": "21777250",
   "metadata": {},
   "outputs": [
    {
     "data": {
      "text/html": [
       "<div>\n",
       "<style scoped>\n",
       "    .dataframe tbody tr th:only-of-type {\n",
       "        vertical-align: middle;\n",
       "    }\n",
       "\n",
       "    .dataframe tbody tr th {\n",
       "        vertical-align: top;\n",
       "    }\n",
       "\n",
       "    .dataframe thead th {\n",
       "        text-align: right;\n",
       "    }\n",
       "</style>\n",
       "<table border=\"1\" class=\"dataframe\">\n",
       "  <thead>\n",
       "    <tr style=\"text-align: right;\">\n",
       "      <th></th>\n",
       "      <th>University</th>\n",
       "      <th>Conference</th>\n",
       "      <th>Year</th>\n",
       "      <th>TeamID</th>\n",
       "      <th>Completions</th>\n",
       "      <th>Attempts</th>\n",
       "      <th>Yards</th>\n",
       "      <th>Completion_Percentage</th>\n",
       "      <th>Yards_per_Attempt</th>\n",
       "      <th>Longest_Completions</th>\n",
       "      <th>Touchdowns</th>\n",
       "      <th>Interceptions</th>\n",
       "      <th>Sacks</th>\n",
       "      <th>Sack_Yards_Lost</th>\n",
       "      <th>Rushing_Yards_per_Game</th>\n",
       "      <th>Rushing_Attempts</th>\n",
       "      <th>Average_per_Rush</th>\n",
       "      <th>Total_Plays</th>\n",
       "      <th>Run_Percentage</th>\n",
       "      <th>Pass_Percentage</th>\n",
       "    </tr>\n",
       "  </thead>\n",
       "  <tbody>\n",
       "    <tr>\n",
       "      <th>0</th>\n",
       "      <td>AirForce</td>\n",
       "      <td>Mountian West</td>\n",
       "      <td>2019</td>\n",
       "      <td>AirForce2019</td>\n",
       "      <td>68</td>\n",
       "      <td>126</td>\n",
       "      <td>1602</td>\n",
       "      <td>54.0</td>\n",
       "      <td>12.7</td>\n",
       "      <td>81</td>\n",
       "      <td>14</td>\n",
       "      <td>6</td>\n",
       "      <td>4</td>\n",
       "      <td>-22</td>\n",
       "      <td>187.9</td>\n",
       "      <td>755</td>\n",
       "      <td>5.1</td>\n",
       "      <td>881</td>\n",
       "      <td>85.70%</td>\n",
       "      <td>14.30%</td>\n",
       "    </tr>\n",
       "    <tr>\n",
       "      <th>1</th>\n",
       "      <td>Akron</td>\n",
       "      <td>MAC</td>\n",
       "      <td>2019</td>\n",
       "      <td>Akron2019</td>\n",
       "      <td>204</td>\n",
       "      <td>398</td>\n",
       "      <td>2344</td>\n",
       "      <td>51.3</td>\n",
       "      <td>5.9</td>\n",
       "      <td>87</td>\n",
       "      <td>12</td>\n",
       "      <td>14</td>\n",
       "      <td>58</td>\n",
       "      <td>-328</td>\n",
       "      <td>103.6</td>\n",
       "      <td>327</td>\n",
       "      <td>1.7</td>\n",
       "      <td>725</td>\n",
       "      <td>45.10%</td>\n",
       "      <td>54.90%</td>\n",
       "    </tr>\n",
       "    <tr>\n",
       "      <th>2</th>\n",
       "      <td>Alabama</td>\n",
       "      <td>SEC</td>\n",
       "      <td>2019</td>\n",
       "      <td>Alabama2019</td>\n",
       "      <td>287</td>\n",
       "      <td>406</td>\n",
       "      <td>4449</td>\n",
       "      <td>70.7</td>\n",
       "      <td>11.0</td>\n",
       "      <td>85</td>\n",
       "      <td>49</td>\n",
       "      <td>6</td>\n",
       "      <td>12</td>\n",
       "      <td>-81</td>\n",
       "      <td>199.6</td>\n",
       "      <td>436</td>\n",
       "      <td>5.0</td>\n",
       "      <td>842</td>\n",
       "      <td>51.78%</td>\n",
       "      <td>48.22%</td>\n",
       "    </tr>\n",
       "    <tr>\n",
       "      <th>3</th>\n",
       "      <td>AppalachianState</td>\n",
       "      <td>SunBelt</td>\n",
       "      <td>2019</td>\n",
       "      <td>AppalachianState2019</td>\n",
       "      <td>231</td>\n",
       "      <td>370</td>\n",
       "      <td>2824</td>\n",
       "      <td>62.4</td>\n",
       "      <td>7.6</td>\n",
       "      <td>73</td>\n",
       "      <td>30</td>\n",
       "      <td>6</td>\n",
       "      <td>18</td>\n",
       "      <td>-107</td>\n",
       "      <td>150.1</td>\n",
       "      <td>599</td>\n",
       "      <td>5.4</td>\n",
       "      <td>969</td>\n",
       "      <td>61.82%</td>\n",
       "      <td>38.18%</td>\n",
       "    </tr>\n",
       "    <tr>\n",
       "      <th>4</th>\n",
       "      <td>Arizona</td>\n",
       "      <td>PAC-12</td>\n",
       "      <td>2019</td>\n",
       "      <td>Arizona2019</td>\n",
       "      <td>261</td>\n",
       "      <td>422</td>\n",
       "      <td>3193</td>\n",
       "      <td>61.8</td>\n",
       "      <td>7.6</td>\n",
       "      <td>75</td>\n",
       "      <td>23</td>\n",
       "      <td>12</td>\n",
       "      <td>33</td>\n",
       "      <td>-191</td>\n",
       "      <td>137.7</td>\n",
       "      <td>451</td>\n",
       "      <td>4.6</td>\n",
       "      <td>873</td>\n",
       "      <td>51.66%</td>\n",
       "      <td>48.34%</td>\n",
       "    </tr>\n",
       "  </tbody>\n",
       "</table>\n",
       "</div>"
      ],
      "text/plain": [
       "         University     Conference  Year                TeamID  Completions  \\\n",
       "0          AirForce  Mountian West  2019          AirForce2019           68   \n",
       "1             Akron            MAC  2019             Akron2019          204   \n",
       "2           Alabama            SEC  2019           Alabama2019          287   \n",
       "3  AppalachianState        SunBelt  2019  AppalachianState2019          231   \n",
       "4           Arizona         PAC-12  2019           Arizona2019          261   \n",
       "\n",
       "   Attempts  Yards  Completion_Percentage  Yards_per_Attempt  \\\n",
       "0       126   1602                   54.0               12.7   \n",
       "1       398   2344                   51.3                5.9   \n",
       "2       406   4449                   70.7               11.0   \n",
       "3       370   2824                   62.4                7.6   \n",
       "4       422   3193                   61.8                7.6   \n",
       "\n",
       "   Longest_Completions  Touchdowns  Interceptions  Sacks  Sack_Yards_Lost  \\\n",
       "0                   81          14              6      4              -22   \n",
       "1                   87          12             14     58             -328   \n",
       "2                   85          49              6     12              -81   \n",
       "3                   73          30              6     18             -107   \n",
       "4                   75          23             12     33             -191   \n",
       "\n",
       "   Rushing_Yards_per_Game  Rushing_Attempts  Average_per_Rush  Total_Plays  \\\n",
       "0                   187.9               755               5.1          881   \n",
       "1                   103.6               327               1.7          725   \n",
       "2                   199.6               436               5.0          842   \n",
       "3                   150.1               599               5.4          969   \n",
       "4                   137.7               451               4.6          873   \n",
       "\n",
       "  Run_Percentage Pass_Percentage  \n",
       "0         85.70%          14.30%  \n",
       "1         45.10%          54.90%  \n",
       "2         51.78%          48.22%  \n",
       "3         61.82%          38.18%  \n",
       "4         51.66%          48.34%  "
      ]
     },
     "execution_count": 46,
     "metadata": {},
     "output_type": "execute_result"
    }
   ],
   "source": [
    "cfb_data2.head()"
   ]
  },
  {
   "cell_type": "markdown",
   "id": "e20b0240",
   "metadata": {},
   "source": [
    "I will be examiming the offensive statistics from the 2019 NCAA Football season and deteriming which stats best represent a successful season. The five most important variables that I will be looking at include:\n",
    "\n",
    "* Yards\n",
    "* Touchdowns\n",
    "* Rushing Yards per Game\n",
    "* Total Plays\n",
    "* Interceptions"
   ]
  },
  {
   "cell_type": "markdown",
   "id": "147a67e7",
   "metadata": {},
   "source": [
    "Describe what the 5 variables mean in the dataset \n",
    "\n",
    "* Yards - The amount of yards gained in the air over the duration of an entire season\n",
    "* Touchdowns - The amount of touchdowns scored on offense over the duration of an entire season\n",
    "* Rushing Yards per Game - The average rushing yards gained by each school per game\n",
    "* Total Plays - The amount of plays ran during the game on offense\n",
    "* Interceptions - The amount of times the quaterback turned the ball over via interception, allowing higher risk of giving up points"
   ]
  },
  {
   "cell_type": "markdown",
   "id": "10575078",
   "metadata": {},
   "source": [
    "### Include a histogram of each of the 5 variables – in your summary and analysis, identify any outliers and explain the reasoning for them being outliers and how you believe they should be handled (Chapter 2)."
   ]
  },
  {
   "cell_type": "markdown",
   "id": "9ea51662",
   "metadata": {},
   "source": [
    "### Include the other descriptive characteristics about the variables: Mean, Mode, Spread, and Tails (Chapter 2)."
   ]
  },
  {
   "cell_type": "markdown",
   "id": "8661184c",
   "metadata": {},
   "source": [
    "##### Histogram 1 - Yards"
   ]
  },
  {
   "cell_type": "code",
   "execution_count": 47,
   "id": "faafb262",
   "metadata": {},
   "outputs": [
    {
     "data": {
      "text/plain": [
       "Text(0, 0.5, 'Frequency')"
      ]
     },
     "execution_count": 47,
     "metadata": {},
     "output_type": "execute_result"
    },
    {
     "data": {
      "image/png": "[encoded data removed]",
      "text/plain": [
       "<Figure size 640x480 with 1 Axes>"
      ]
     },
     "metadata": {},
     "output_type": "display_data"
    }
   ],
   "source": [
    "fig, ax = plt.subplots()\n",
    "plt.hist(cfb_data2.Yards, bins = 130)\n",
    "ax.set_xlabel('Yards')\n",
    "ax.set_ylabel('Frequency')"
   ]
  },
  {
   "cell_type": "code",
   "execution_count": 48,
   "id": "1dee1264",
   "metadata": {},
   "outputs": [
    {
     "data": {
      "text/plain": [
       "2991.484375"
      ]
     },
     "execution_count": 48,
     "metadata": {},
     "output_type": "execute_result"
    }
   ],
   "source": [
    "cfb_data2.Yards.mean()"
   ]
  },
  {
   "cell_type": "code",
   "execution_count": 49,
   "id": "a31be633",
   "metadata": {},
   "outputs": [
    {
     "data": {
      "text/plain": [
       "0    2611\n",
       "1    2749\n",
       "2    3748\n",
       "Name: Yards, dtype: int64"
      ]
     },
     "execution_count": 49,
     "metadata": {},
     "output_type": "execute_result"
    }
   ],
   "source": [
    "cfb_data2.Yards.mode()"
   ]
  },
  {
   "cell_type": "code",
   "execution_count": 50,
   "id": "1f71a09b",
   "metadata": {},
   "outputs": [
    {
     "data": {
      "text/plain": [
       "698199.2595964567"
      ]
     },
     "execution_count": 50,
     "metadata": {},
     "output_type": "execute_result"
    }
   ],
   "source": [
    "cfb_data2.Yards.var()"
   ]
  },
  {
   "cell_type": "code",
   "execution_count": 51,
   "id": "4311e502",
   "metadata": {},
   "outputs": [
    {
     "data": {
      "text/plain": [
       "835.5831853241523"
      ]
     },
     "execution_count": 51,
     "metadata": {},
     "output_type": "execute_result"
    }
   ],
   "source": [
    "cfb_data2.Yards.std()"
   ]
  },
  {
   "cell_type": "markdown",
   "id": "55868598",
   "metadata": {},
   "source": [
    "##### Histogram 2 - Touchdowns"
   ]
  },
  {
   "cell_type": "code",
   "execution_count": 30,
   "id": "61c94c79",
   "metadata": {},
   "outputs": [
    {
     "data": {
      "text/plain": [
       "Text(0, 0.5, 'Frequency')"
      ]
     },
     "execution_count": 30,
     "metadata": {},
     "output_type": "execute_result"
    },
    {
     "data": {
      "image/png": "[encoded data removed]",
      "text/plain": [
       "<Figure size 640x480 with 1 Axes>"
      ]
     },
     "metadata": {},
     "output_type": "display_data"
    }
   ],
   "source": [
    "fig, ax = plt.subplots()\n",
    "plt.hist(cfb_data2.Touchdowns, bins = 130)\n",
    "ax.set_xlabel('Touchdowns')\n",
    "ax.set_ylabel('Frequency')"
   ]
  },
  {
   "cell_type": "code",
   "execution_count": 52,
   "id": "e684150d",
   "metadata": {},
   "outputs": [
    {
     "data": {
      "text/plain": [
       "22.0625"
      ]
     },
     "execution_count": 52,
     "metadata": {},
     "output_type": "execute_result"
    }
   ],
   "source": [
    "cfb_data2.Touchdowns.mean()"
   ]
  },
  {
   "cell_type": "code",
   "execution_count": 53,
   "id": "347853af",
   "metadata": {},
   "outputs": [
    {
     "data": {
      "text/plain": [
       "0    14\n",
       "Name: Touchdowns, dtype: int64"
      ]
     },
     "execution_count": 53,
     "metadata": {},
     "output_type": "execute_result"
    }
   ],
   "source": [
    "cfb_data2.Touchdowns.mode()"
   ]
  },
  {
   "cell_type": "code",
   "execution_count": 54,
   "id": "5fd70193",
   "metadata": {},
   "outputs": [
    {
     "data": {
      "text/plain": [
       "90.35826771653544"
      ]
     },
     "execution_count": 54,
     "metadata": {},
     "output_type": "execute_result"
    }
   ],
   "source": [
    "cfb_data2.Touchdowns.var()"
   ]
  },
  {
   "cell_type": "code",
   "execution_count": 55,
   "id": "5df11eab",
   "metadata": {},
   "outputs": [
    {
     "data": {
      "text/plain": [
       "9.505696592913926"
      ]
     },
     "execution_count": 55,
     "metadata": {},
     "output_type": "execute_result"
    }
   ],
   "source": [
    "cfb_data2.Touchdowns.std()"
   ]
  },
  {
   "cell_type": "markdown",
   "id": "e8476bfc",
   "metadata": {},
   "source": [
    "##### Histogram 3 - Rushing Yards per Game"
   ]
  },
  {
   "cell_type": "code",
   "execution_count": 35,
   "id": "3f9bef1c",
   "metadata": {},
   "outputs": [
    {
     "data": {
      "text/plain": [
       "Text(0, 0.5, 'Frequency')"
      ]
     },
     "execution_count": 35,
     "metadata": {},
     "output_type": "execute_result"
    },
    {
     "data": {
      "image/png": "[encoded data removed]",
      "text/plain": [
       "<Figure size 640x480 with 1 Axes>"
      ]
     },
     "metadata": {},
     "output_type": "display_data"
    }
   ],
   "source": [
    "fig, ax = plt.subplots()\n",
    "plt.hist(cfb_data2.Rushing_Yards_per_Game, bins = 130)\n",
    "ax.set_xlabel('Rushing Yards per Game')\n",
    "ax.set_ylabel('Frequency')"
   ]
  },
  {
   "cell_type": "code",
   "execution_count": 56,
   "id": "b43a388d",
   "metadata": {},
   "outputs": [
    {
     "data": {
      "text/plain": [
       "136.4296875"
      ]
     },
     "execution_count": 56,
     "metadata": {},
     "output_type": "execute_result"
    }
   ],
   "source": [
    "cfb_data2.Rushing_Yards_per_Game.mean()"
   ]
  },
  {
   "cell_type": "code",
   "execution_count": 57,
   "id": "cc87fe77",
   "metadata": {},
   "outputs": [
    {
     "data": {
      "text/plain": [
       "0    103.4\n",
       "1    136.1\n",
       "2    142.4\n",
       "Name: Rushing_Yards_per_Game, dtype: float64"
      ]
     },
     "execution_count": 57,
     "metadata": {},
     "output_type": "execute_result"
    }
   ],
   "source": [
    "cfb_data2.Rushing_Yards_per_Game.mode()"
   ]
  },
  {
   "cell_type": "code",
   "execution_count": 58,
   "id": "a44edb33",
   "metadata": {},
   "outputs": [
    {
     "data": {
      "text/plain": [
       "405.82084399606293"
      ]
     },
     "execution_count": 58,
     "metadata": {},
     "output_type": "execute_result"
    }
   ],
   "source": [
    "cfb_data2.Rushing_Yards_per_Game.var()"
   ]
  },
  {
   "cell_type": "code",
   "execution_count": 59,
   "id": "b70f19d8",
   "metadata": {},
   "outputs": [
    {
     "data": {
      "text/plain": [
       "20.144995507471897"
      ]
     },
     "execution_count": 59,
     "metadata": {},
     "output_type": "execute_result"
    }
   ],
   "source": [
    "cfb_data2.Rushing_Yards_per_Game.std()"
   ]
  },
  {
   "cell_type": "markdown",
   "id": "31132866",
   "metadata": {},
   "source": [
    "##### Histogram 4 - Total Plays"
   ]
  },
  {
   "cell_type": "code",
   "execution_count": 61,
   "id": "1e995485",
   "metadata": {},
   "outputs": [
    {
     "data": {
      "text/plain": [
       "Text(0, 0.5, 'Frequency')"
      ]
     },
     "execution_count": 61,
     "metadata": {},
     "output_type": "execute_result"
    },
    {
     "data": {
      "image/png": "[encoded data removed]",
      "text/plain": [
       "<Figure size 640x480 with 1 Axes>"
      ]
     },
     "metadata": {},
     "output_type": "display_data"
    }
   ],
   "source": [
    "fig, ax = plt.subplots()\n",
    "plt.hist(cfb_data2.Total_Plays, bins = 130)\n",
    "ax.set_xlabel('Total Palys')\n",
    "ax.set_ylabel('Frequency')"
   ]
  },
  {
   "cell_type": "code",
   "execution_count": 62,
   "id": "41c431f5",
   "metadata": {},
   "outputs": [
    {
     "data": {
      "text/plain": [
       "885.3359375"
      ]
     },
     "execution_count": 62,
     "metadata": {},
     "output_type": "execute_result"
    }
   ],
   "source": [
    "cfb_data2.Total_Plays.mean()"
   ]
  },
  {
   "cell_type": "code",
   "execution_count": 63,
   "id": "bf100401",
   "metadata": {},
   "outputs": [
    {
     "data": {
      "text/plain": [
       "0    905\n",
       "Name: Total_Plays, dtype: int64"
      ]
     },
     "execution_count": 63,
     "metadata": {},
     "output_type": "execute_result"
    }
   ],
   "source": [
    "cfb_data2.Total_Plays.mode()"
   ]
  },
  {
   "cell_type": "code",
   "execution_count": 64,
   "id": "c0861ffe",
   "metadata": {},
   "outputs": [
    {
     "data": {
      "text/plain": [
       "5830.193343996063"
      ]
     },
     "execution_count": 64,
     "metadata": {},
     "output_type": "execute_result"
    }
   ],
   "source": [
    "cfb_data2.Total_Plays.var()"
   ]
  },
  {
   "cell_type": "code",
   "execution_count": 65,
   "id": "b3ae3a37",
   "metadata": {},
   "outputs": [
    {
     "data": {
      "text/plain": [
       "76.35570276014793"
      ]
     },
     "execution_count": 65,
     "metadata": {},
     "output_type": "execute_result"
    }
   ],
   "source": [
    "cfb_data2.Total_Plays.std()"
   ]
  },
  {
   "cell_type": "markdown",
   "id": "88743f48",
   "metadata": {},
   "source": [
    "##### Histogram 5 - Interceptions"
   ]
  },
  {
   "cell_type": "code",
   "execution_count": 37,
   "id": "8beb2f4a",
   "metadata": {},
   "outputs": [
    {
     "data": {
      "text/plain": [
       "Text(0, 0.5, 'Frequency')"
      ]
     },
     "execution_count": 37,
     "metadata": {},
     "output_type": "execute_result"
    },
    {
     "data": {
      "image/png": "[encoded data removed]",
      "text/plain": [
       "<Figure size 640x480 with 1 Axes>"
      ]
     },
     "metadata": {},
     "output_type": "display_data"
    }
   ],
   "source": [
    "fig, ax = plt.subplots()\n",
    "plt.hist(cfb_data2.Interceptions, bins = 130)\n",
    "ax.set_xlabel('Interceptions')\n",
    "ax.set_ylabel('Frequency')"
   ]
  },
  {
   "cell_type": "code",
   "execution_count": 66,
   "id": "3207cac1",
   "metadata": {},
   "outputs": [
    {
     "data": {
      "text/plain": [
       "9.96875"
      ]
     },
     "execution_count": 66,
     "metadata": {},
     "output_type": "execute_result"
    }
   ],
   "source": [
    "cfb_data2.Interceptions.mean()"
   ]
  },
  {
   "cell_type": "code",
   "execution_count": 67,
   "id": "5b54fc0b",
   "metadata": {},
   "outputs": [
    {
     "data": {
      "text/plain": [
       "0    10\n",
       "1    11\n",
       "Name: Interceptions, dtype: int64"
      ]
     },
     "execution_count": 67,
     "metadata": {},
     "output_type": "execute_result"
    }
   ],
   "source": [
    "cfb_data2.Interceptions.mode()"
   ]
  },
  {
   "cell_type": "code",
   "execution_count": 68,
   "id": "8790c79f",
   "metadata": {},
   "outputs": [
    {
     "data": {
      "text/plain": [
       "13.510826771653543"
      ]
     },
     "execution_count": 68,
     "metadata": {},
     "output_type": "execute_result"
    }
   ],
   "source": [
    "cfb_data2.Interceptions.var()"
   ]
  },
  {
   "cell_type": "code",
   "execution_count": 69,
   "id": "89e2fc84",
   "metadata": {},
   "outputs": [
    {
     "data": {
      "text/plain": [
       "3.6757076559015873"
      ]
     },
     "execution_count": 69,
     "metadata": {},
     "output_type": "execute_result"
    }
   ],
   "source": [
    "cfb_data2.Interceptions.std()"
   ]
  },
  {
   "cell_type": "markdown",
   "id": "2de9bcc2",
   "metadata": {},
   "source": [
    "### Using pg. 29 of your text as an example, compare two scenarios in your data using a PMF. Reminder, this isn’t comparing two variables against each other – it is the same variable, but a different scenario. Almost like a filter. The example in the book is first babies compared to all other babies, it is still the same variable, but breaking the data out based on criteria we are exploring (Chapter 3)."
   ]
  },
  {
   "cell_type": "code",
   "execution_count": 129,
   "id": "8c57b7b9",
   "metadata": {},
   "outputs": [],
   "source": [
    "low_yards = cfb_data2[cfb_data2.Yards < 2000]\n",
    "high_yards = cfb_data2[cfb_data2.Yards > 5000]\n",
    "low_yards_pmf = thinkstats2.Pmf(low_yards.Total_Plays)\n",
    "high_yards_pmf = thinkstats2.Pmf(high_yards.Total_Plays)"
   ]
  },
  {
   "cell_type": "code",
   "execution_count": 130,
   "id": "963db140",
   "metadata": {},
   "outputs": [
    {
     "data": {
      "image/png": "[encoded data removed]",
      "text/plain": [
       "<Figure size 640x480 with 1 Axes>"
      ]
     },
     "metadata": {},
     "output_type": "display_data"
    }
   ],
   "source": [
    "thinkplot.Hist(low_yards_pmf, align = 'right', width = 130, label = 'Low Yards' )\n",
    "thinkplot.Hist(high_yards_pmf, align = 'left', width = 130, label = 'High Yards')\n",
    "thinkplot.Config(xlabel = 'Season Yards',\n",
    "ylabel='Probability')"
   ]
  },
  {
   "cell_type": "markdown",
   "id": "650d5423",
   "metadata": {},
   "source": [
    "The above PMF showcases the probability of a certian amount of yards gained during the course of a season depending on the amount of total plays ran during the season. The data is devided into two groups of teams with yardage less than 2000 during a season and teams with yardage higher than 5000 during a season. This outcome aligns with the hypothesis that the more plays ran during a season, the more yards likely to be accumlated and thus a more successful season. "
   ]
  },
  {
   "cell_type": "markdown",
   "id": "cde38257",
   "metadata": {},
   "source": [
    "### Create 1 CDF with one of your variables, using page 41-44 as your guide, what does this tell you about your variable and how does it address the question you are trying to answer (Chapter 4)."
   ]
  },
  {
   "cell_type": "code",
   "execution_count": 82,
   "id": "383cf60e",
   "metadata": {},
   "outputs": [
    {
     "data": {
      "image/png": "[encoded data removed]",
      "text/plain": [
       "<Figure size 640x480 with 1 Axes>"
      ]
     },
     "metadata": {},
     "output_type": "display_data"
    },
    {
     "data": {
      "text/plain": [
       "<Figure size 800x600 with 0 Axes>"
      ]
     },
     "metadata": {},
     "output_type": "display_data"
    }
   ],
   "source": [
    "cdf = thinkstats2.Cdf(cfb_data2.Touchdowns, label = 'Touchdowns')\n",
    "thinkplot.Cdf(cdf)\n",
    "thinkplot.Show(xlabel = 'Touchdowns', ylabel = 'CDF')"
   ]
  },
  {
   "cell_type": "markdown",
   "id": "95b91e31",
   "metadata": {},
   "source": [
    "The CDF displayed above shows a slightly normal distribution with the majority of results showing a gradual increase around the 50th percentile and plateauing right around 100. This graph shows that at the 50th percentile is right around 20 Touchdowns recorded during the season, which lines up with the mean of 22. I think these results agree with the eariler PMF about higher yardage leading to a more successful season, there is evidence to show that there is a strong correlation bewteen collecting a large amount of yardage and scoring more touchdowns, leading to more successful performance. "
   ]
  },
  {
   "cell_type": "markdown",
   "id": "8b9982d6",
   "metadata": {},
   "source": [
    "### Plot 1 analytical distribution and provide your analysis on how it applies to the dataset you have chosen (Chapter 5)."
   ]
  },
  {
   "cell_type": "code",
   "execution_count": 91,
   "id": "77b50e27",
   "metadata": {},
   "outputs": [
    {
     "data": {
      "image/png": "[encoded data removed]",
      "text/plain": [
       "<Figure size 640x480 with 1 Axes>"
      ]
     },
     "metadata": {},
     "output_type": "display_data"
    }
   ],
   "source": [
    "mean, var = thinkstats2.TrimmedMeanVar(cfb_data2.Yards, p = 0.20)\n",
    "std = np.sqrt(var)\n",
    "\n",
    "xs = [-2, 2]\n",
    "fxs, fys = thinkstats2.FitLine(xs, mean, std)\n",
    "thinkplot.Plot(fxs, fys, linewidth = 4, color = \"0.5\")\n",
    "\n",
    "thinkplot.PrePlot(2)\n",
    "xs, ys = thinkstats2.NormalProbability(low_yards.Total_Plays)\n",
    "thinkplot.Plot(xs, ys, label = \"Low Yards\")\n",
    "\n",
    "xs, ys = thinkstats2.NormalProbability(high_yards.Total_Plays)\n",
    "thinkplot.Plot(xs, ys, label = \"High Yards\")\n",
    "thinkplot.Config(\n",
    "    title = \"Normal Probability Plot\",\n",
    "    xlabel = \"Standard Deviations from Mean\",\n",
    "    ylabel = \"Total Plays\",)"
   ]
  },
  {
   "cell_type": "markdown",
   "id": "d5d74f02",
   "metadata": {},
   "source": [
    "I decided to run a Normal Probility Plot comparing low and high yards during a season with the amount of plays ran during the year. This is inline with the PMF shown eariler. The results show that there is high concentration of teams who record higher yardage outputs with a smaller standard deviations, where as teams that have a lower yardage output have more variance in standard deviations from the mean. The gray line represents a normal distribution, and the results clearly show that is not a normal distribution. The plot would skew more towards normaility if the total plays y axis was scaled more to represent the distribution of total yards. "
   ]
  },
  {
   "cell_type": "markdown",
   "id": "9c32bfa6",
   "metadata": {},
   "source": [
    "### Create two scatter plots comparing two variables and provide your analysis on correlation and causation. Remember, covariance, Pearson’s correlation, and Non-Linear Relationships should also be considered during your analysis (Chapter 7)."
   ]
  },
  {
   "cell_type": "markdown",
   "id": "ab09db4c",
   "metadata": {},
   "source": [
    "##### Scatter plot 1 - Touchdowns vs Total Plays"
   ]
  },
  {
   "cell_type": "code",
   "execution_count": 99,
   "id": "0727cd8d",
   "metadata": {},
   "outputs": [
    {
     "data": {
      "image/png": "[encoded data removed]",
      "text/plain": [
       "<Figure size 640x480 with 1 Axes>"
      ]
     },
     "metadata": {},
     "output_type": "display_data"
    }
   ],
   "source": [
    "thinkplot.Scatter(cfb_data2.Touchdowns, cfb_data2.Total_Plays, alpha = 0.25, s = 50)\n",
    "thinkplot.Config(xlabel = \"Touchdowns\", ylabel = \"Total Plays\")"
   ]
  },
  {
   "cell_type": "code",
   "execution_count": 103,
   "id": "5ba66c62",
   "metadata": {},
   "outputs": [
    {
     "name": "stdout",
     "output_type": "stream",
     "text": [
      "Covariance: 406.70556640625\n",
      "Pearson's Correlation: 0.5647561101813051\n",
      "Spearman’s Correlation: 0.5294385678719321\n"
     ]
    }
   ],
   "source": [
    "print(\"Covariance:\", thinkstats2.Cov(cfb_data2.Touchdowns, cfb_data2.Total_Plays))\n",
    "print(\"Pearson's Correlation:\", thinkstats2.Corr(cfb_data2.Touchdowns, cfb_data2.Total_Plays))\n",
    "print(\"Spearman’s Correlation:\", thinkstats2.SpearmanCorr(cfb_data2.Touchdowns, cfb_data2.Total_Plays))"
   ]
  },
  {
   "cell_type": "markdown",
   "id": "8a3d9828",
   "metadata": {},
   "source": [
    "The scatterplot above showcases the comparassion between Total Plays during the season, and Touchdowns scored. The results of this scatterplot are not surprising, as it looks like there is an average correlation for both Pearson and Spearman. It shows that there is a large cluster in which the more total plays ran, the more touchdowns scored, with a few outliers. In this situation, the outliers shown are most likely to be championship contenders due to the fact that touchdowns directly relate to points scored, whereas total plays are and indirect relationship to points scored.  "
   ]
  },
  {
   "cell_type": "markdown",
   "id": "dd61bbc4",
   "metadata": {},
   "source": [
    "##### Scatter plot 2 - Interceptions vs Total Plays"
   ]
  },
  {
   "cell_type": "code",
   "execution_count": 100,
   "id": "556182f3",
   "metadata": {},
   "outputs": [
    {
     "data": {
      "image/png": "[encoded data removed]",
      "text/plain": [
       "<Figure size 640x480 with 1 Axes>"
      ]
     },
     "metadata": {},
     "output_type": "display_data"
    }
   ],
   "source": [
    "thinkplot.Scatter(cfb_data2.Interceptions, cfb_data2.Total_Plays, alpha = 0.25, s = 50)\n",
    "thinkplot.Config(xlabel = \"Interceptions\", ylabel = \"Total Plays\")"
   ]
  },
  {
   "cell_type": "code",
   "execution_count": 104,
   "id": "773aab7b",
   "metadata": {},
   "outputs": [
    {
     "name": "stdout",
     "output_type": "stream",
     "text": [
      "Covariance: -42.481689453125\n",
      "Pearson's Correlation: -0.1525546981860215\n",
      "Spearman’s Correlation: -0.1729958933403151\n"
     ]
    }
   ],
   "source": [
    "print(\"Covariance:\", thinkstats2.Cov(cfb_data2.Interceptions, cfb_data2.Total_Plays))\n",
    "print(\"Pearson's Correlation:\", thinkstats2.Corr(cfb_data2.Interceptions, cfb_data2.Total_Plays))\n",
    "print(\"Spearman’s Correlation:\", thinkstats2.SpearmanCorr(cfb_data2.Interceptions, cfb_data2.Total_Plays))"
   ]
  },
  {
   "cell_type": "markdown",
   "id": "fa13e2b4",
   "metadata": {},
   "source": [
    "The scatterplot above showcases the comparassion between Total Plays during the season, and Interceptions thrown during the season. The results of this scatterplot are somewhat surprising, as it looks like there is a negative correlation for both Pearson and Spearman. It shows that there is a even distribution throughout all total plays during the season, and no true outliers. This is a surprising outcome to me, because this shows that there no ture correlation between the amount of plays ran and the amount of interceptions thrown during the season.  "
   ]
  },
  {
   "cell_type": "markdown",
   "id": "2e40d45a",
   "metadata": {},
   "source": [
    "### Conduct a test on your hypothesis using one of the methods covered in Chapter 9."
   ]
  },
  {
   "cell_type": "markdown",
   "id": "5ce68c80",
   "metadata": {},
   "source": [
    "For my hypothesis test, I decided to run a correlation test to determine if there is a true correlation bewteen the amount of yards thrown and the intereptions thrown, based off of the results of Pearson's and Spearman's correlation bewteen Total Plays and Interceptions. I chose CorrelationPermute because it shuffles the variables and runs a simulation of the shuffled values and determines the correlations of the values. "
   ]
  },
  {
   "cell_type": "code",
   "execution_count": 105,
   "id": "4a1c668d",
   "metadata": {},
   "outputs": [],
   "source": [
    "class CorrelationPermute(thinkstats2.HypothesisTest):\n",
    "    def TestStatistic(self, data):\n",
    "        xs, ys = data\n",
    "        test_stat = abs(thinkstats2.Corr(xs, ys))\n",
    "        return test_stat\n",
    "    \n",
    "    def RunModel(self):\n",
    "        xs, ys = self.data\n",
    "        xs = np.random.permutation(xs)\n",
    "        return xs, ys"
   ]
  },
  {
   "cell_type": "code",
   "execution_count": 115,
   "id": "332da460",
   "metadata": {},
   "outputs": [
    {
     "name": "stdout",
     "output_type": "stream",
     "text": [
      "0.141\n"
     ]
    }
   ],
   "source": [
    "data = cfb_data2.Yards, cfb_data2.Interceptions\n",
    "test = CorrelationPermute(data)\n",
    "pvalue = test.PValue(iters = 5000)\n",
    "print(pvalue)"
   ]
  },
  {
   "cell_type": "markdown",
   "id": "c377de58",
   "metadata": {},
   "source": [
    "The results of the correlation hypothesis test shows that with the low results, there is alomost no correlation between the amount of yards thrown and the number of interceptions thrown, thus contiuning to prove that there in no connection between the two variables. This shows that interceptions can happen at any time and have little to zero effect on the amount of yards thrown or total plays recorded during the course of a season. "
   ]
  },
  {
   "cell_type": "markdown",
   "id": "d116f247",
   "metadata": {},
   "source": [
    "### For this project, conduct a regression analysis on either one dependent and one explanatory variable, or multiple explanatory variables (Chapter 10 & 11)."
   ]
  },
  {
   "cell_type": "code",
   "execution_count": 132,
   "id": "8b46c692",
   "metadata": {},
   "outputs": [
    {
     "data": {
      "text/html": [
       "<table class=\"simpletable\">\n",
       "<caption>OLS Regression Results</caption>\n",
       "<tr>\n",
       "  <th>Dep. Variable:</th>          <td>Yards</td>      <th>  R-squared:         </th> <td>   0.724</td>\n",
       "</tr>\n",
       "<tr>\n",
       "  <th>Model:</th>                   <td>OLS</td>       <th>  Adj. R-squared:    </th> <td>   0.720</td>\n",
       "</tr>\n",
       "<tr>\n",
       "  <th>Method:</th>             <td>Least Squares</td>  <th>  F-statistic:       </th> <td>   164.0</td>\n",
       "</tr>\n",
       "<tr>\n",
       "  <th>Date:</th>             <td>Tue, 14 Nov 2023</td> <th>  Prob (F-statistic):</th> <td>1.12e-35</td>\n",
       "</tr>\n",
       "<tr>\n",
       "  <th>Time:</th>                 <td>13:22:37</td>     <th>  Log-Likelihood:    </th> <td> -959.91</td>\n",
       "</tr>\n",
       "<tr>\n",
       "  <th>No. Observations:</th>      <td>   128</td>      <th>  AIC:               </th> <td>   1926.</td>\n",
       "</tr>\n",
       "<tr>\n",
       "  <th>Df Residuals:</th>          <td>   125</td>      <th>  BIC:               </th> <td>   1934.</td>\n",
       "</tr>\n",
       "<tr>\n",
       "  <th>Df Model:</th>              <td>     2</td>      <th>                     </th>     <td> </td>   \n",
       "</tr>\n",
       "<tr>\n",
       "  <th>Covariance Type:</th>      <td>nonrobust</td>    <th>                     </th>     <td> </td>   \n",
       "</tr>\n",
       "</table>\n",
       "<table class=\"simpletable\">\n",
       "<tr>\n",
       "             <td></td>               <th>coef</th>     <th>std err</th>      <th>t</th>      <th>P>|t|</th>  <th>[0.025</th>    <th>0.975]</th>  \n",
       "</tr>\n",
       "<tr>\n",
       "  <th>Intercept</th>              <td> 1630.4305</td> <td>  319.097</td> <td>    5.110</td> <td> 0.000</td> <td>  998.898</td> <td> 2261.963</td>\n",
       "</tr>\n",
       "<tr>\n",
       "  <th>Rushing_Yards_per_Game</th> <td>   -2.8467</td> <td>    3.009</td> <td>   -0.946</td> <td> 0.346</td> <td>   -8.801</td> <td>    3.108</td>\n",
       "</tr>\n",
       "<tr>\n",
       "  <th>Touchdowns</th>             <td>   79.2940</td> <td>    6.376</td> <td>   12.436</td> <td> 0.000</td> <td>   66.674</td> <td>   91.914</td>\n",
       "</tr>\n",
       "</table>\n",
       "<table class=\"simpletable\">\n",
       "<tr>\n",
       "  <th>Omnibus:</th>       <td> 0.575</td> <th>  Durbin-Watson:     </th> <td>   2.033</td>\n",
       "</tr>\n",
       "<tr>\n",
       "  <th>Prob(Omnibus):</th> <td> 0.750</td> <th>  Jarque-Bera (JB):  </th> <td>   0.717</td>\n",
       "</tr>\n",
       "<tr>\n",
       "  <th>Skew:</th>          <td>-0.105</td> <th>  Prob(JB):          </th> <td>   0.699</td>\n",
       "</tr>\n",
       "<tr>\n",
       "  <th>Kurtosis:</th>      <td> 2.699</td> <th>  Cond. No.          </th> <td>1.14e+03</td>\n",
       "</tr>\n",
       "</table><br/><br/>Notes:<br/>[1] Standard Errors assume that the covariance matrix of the errors is correctly specified.<br/>[2] The condition number is large, 1.14e+03. This might indicate that there are<br/>strong multicollinearity or other numerical problems."
      ],
      "text/latex": [
       "\\begin{center}\n",
       "\\begin{tabular}{lclc}\n",
       "\\toprule\n",
       "\\textbf{Dep. Variable:}            &      Yards       & \\textbf{  R-squared:         } &     0.724   \\\\\n",
       "\\textbf{Model:}                    &       OLS        & \\textbf{  Adj. R-squared:    } &     0.720   \\\\\n",
       "\\textbf{Method:}                   &  Least Squares   & \\textbf{  F-statistic:       } &     164.0   \\\\\n",
       "\\textbf{Date:}                     & Tue, 14 Nov 2023 & \\textbf{  Prob (F-statistic):} &  1.12e-35   \\\\\n",
       "\\textbf{Time:}                     &     13:22:37     & \\textbf{  Log-Likelihood:    } &   -959.91   \\\\\n",
       "\\textbf{No. Observations:}         &         128      & \\textbf{  AIC:               } &     1926.   \\\\\n",
       "\\textbf{Df Residuals:}             &         125      & \\textbf{  BIC:               } &     1934.   \\\\\n",
       "\\textbf{Df Model:}                 &           2      & \\textbf{                     } &             \\\\\n",
       "\\textbf{Covariance Type:}          &    nonrobust     & \\textbf{                     } &             \\\\\n",
       "\\bottomrule\n",
       "\\end{tabular}\n",
       "\\begin{tabular}{lcccccc}\n",
       "                                   & \\textbf{coef} & \\textbf{std err} & \\textbf{t} & \\textbf{P$> |$t$|$} & \\textbf{[0.025} & \\textbf{0.975]}  \\\\\n",
       "\\midrule\n",
       "\\textbf{Intercept}                 &    1630.4305  &      319.097     &     5.110  &         0.000        &      998.898    &     2261.963     \\\\\n",
       "\\textbf{Rushing\\_Yards\\_per\\_Game} &      -2.8467  &        3.009     &    -0.946  &         0.346        &       -8.801    &        3.108     \\\\\n",
       "\\textbf{Touchdowns}                &      79.2940  &        6.376     &    12.436  &         0.000        &       66.674    &       91.914     \\\\\n",
       "\\bottomrule\n",
       "\\end{tabular}\n",
       "\\begin{tabular}{lclc}\n",
       "\\textbf{Omnibus:}       &  0.575 & \\textbf{  Durbin-Watson:     } &    2.033  \\\\\n",
       "\\textbf{Prob(Omnibus):} &  0.750 & \\textbf{  Jarque-Bera (JB):  } &    0.717  \\\\\n",
       "\\textbf{Skew:}          & -0.105 & \\textbf{  Prob(JB):          } &    0.699  \\\\\n",
       "\\textbf{Kurtosis:}      &  2.699 & \\textbf{  Cond. No.          } & 1.14e+03  \\\\\n",
       "\\bottomrule\n",
       "\\end{tabular}\n",
       "%\\caption{OLS Regression Results}\n",
       "\\end{center}\n",
       "\n",
       "Notes: \\newline\n",
       " [1] Standard Errors assume that the covariance matrix of the errors is correctly specified. \\newline\n",
       " [2] The condition number is large, 1.14e+03. This might indicate that there are \\newline\n",
       " strong multicollinearity or other numerical problems."
      ],
      "text/plain": [
       "<class 'statsmodels.iolib.summary.Summary'>\n",
       "\"\"\"\n",
       "                            OLS Regression Results                            \n",
       "==============================================================================\n",
       "Dep. Variable:                  Yards   R-squared:                       0.724\n",
       "Model:                            OLS   Adj. R-squared:                  0.720\n",
       "Method:                 Least Squares   F-statistic:                     164.0\n",
       "Date:                Tue, 14 Nov 2023   Prob (F-statistic):           1.12e-35\n",
       "Time:                        13:22:37   Log-Likelihood:                -959.91\n",
       "No. Observations:                 128   AIC:                             1926.\n",
       "Df Residuals:                     125   BIC:                             1934.\n",
       "Df Model:                           2                                         \n",
       "Covariance Type:            nonrobust                                         \n",
       "==========================================================================================\n",
       "                             coef    std err          t      P>|t|      [0.025      0.975]\n",
       "------------------------------------------------------------------------------------------\n",
       "Intercept               1630.4305    319.097      5.110      0.000     998.898    2261.963\n",
       "Rushing_Yards_per_Game    -2.8467      3.009     -0.946      0.346      -8.801       3.108\n",
       "Touchdowns                79.2940      6.376     12.436      0.000      66.674      91.914\n",
       "==============================================================================\n",
       "Omnibus:                        0.575   Durbin-Watson:                   2.033\n",
       "Prob(Omnibus):                  0.750   Jarque-Bera (JB):                0.717\n",
       "Skew:                          -0.105   Prob(JB):                        0.699\n",
       "Kurtosis:                       2.699   Cond. No.                     1.14e+03\n",
       "==============================================================================\n",
       "\n",
       "Notes:\n",
       "[1] Standard Errors assume that the covariance matrix of the errors is correctly specified.\n",
       "[2] The condition number is large, 1.14e+03. This might indicate that there are\n",
       "strong multicollinearity or other numerical problems.\n",
       "\"\"\""
      ]
     },
     "execution_count": 132,
     "metadata": {},
     "output_type": "execute_result"
    }
   ],
   "source": [
    "import statsmodels.formula.api as smf\n",
    "\n",
    "model = smf.ols('Yards ~ Rushing_Yards_per_Game + Touchdowns', data = cfb_data2)\n",
    "results = model.fit()\n",
    "results.summary()"
   ]
  },
  {
   "cell_type": "markdown",
   "id": "9ca2c71a",
   "metadata": {},
   "source": [
    "For my regression analysis, I decided to use mulitple exploratory variables: Yards, Rushing Yards per Game, and Touchdowns. The results of this regression analysis shows that there is a large Standard Error in both Rushing Yards per Game and Touchdowns. The P-values are very low, all the way down to 0.  "
   ]
  }
 ],
 "metadata": {
  "kernelspec": {
   "display_name": "Python 3 (ipykernel)",
   "language": "python",
   "name": "python3"
  },
  "language_info": {
   "codemirror_mode": {
    "name": "ipython",
    "version": 3
   },
   "file_extension": ".py",
   "mimetype": "text/x-python",
   "name": "python",
   "nbconvert_exporter": "python",
   "pygments_lexer": "ipython3",
   "version": "3.11.4"
  }
 },
 "nbformat": 4,
 "nbformat_minor": 5
}
