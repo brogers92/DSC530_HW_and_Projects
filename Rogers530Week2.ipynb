{
 "cells": [
  {
   "cell_type": "code",
   "execution_count": 2,
   "id": "3fe86bee",
   "metadata": {},
   "outputs": [
    {
     "name": "stdout",
     "output_type": "stream",
     "text": [
      "Hello World! My name is Bryan.\n",
      "125\n",
      "32\n",
      "1518\n",
      "2.0\n",
      "Major League Baseball is National League and Ameican League\n",
      "Orginal list: ['AL East', 'AL Central', 'AL West', 'NL East']\n",
      "Appended list: ['AL East', 'AL Central', 'AL West', 'NL East', 'NL Central', 'NL West']\n",
      "Tuple: ('apple', 5, 'orange', 10)\n"
     ]
    }
   ],
   "source": [
    "# Display the text “Hello World! My name is ....\"\n",
    "\n",
    "print(\"Hello World! My name is Bryan.\")\n",
    "\n",
    "# I used a random number generator to collect random integers to use for the operations equations\n",
    "\n",
    "# Add two numbers together\n",
    "\n",
    "x = 27\n",
    "y = 98\n",
    "print(x + y)\n",
    "\n",
    "# Subtract a number from another number\n",
    "\n",
    "x = 87\n",
    "y = 55\n",
    "print(x - y)\n",
    "\n",
    "# Multiply two numbers\n",
    "\n",
    "x = 46\n",
    "y = 33\n",
    "print(x * y)\n",
    "\n",
    "# Divide between two numbers\n",
    "\n",
    "x = 10\n",
    "y = 5\n",
    "print(x / y)\n",
    "\n",
    "# Concatenate two strings together (any words)\n",
    "\n",
    "string1 = 'Major League Baseball is '  \n",
    "string2 = 'National League and Ameican League'\n",
    "\n",
    "concat_string = string1 + string2\n",
    "print(concat_string)\n",
    "\n",
    "\n",
    "# Create a list of 4 items (can be strings, numbers, both)\n",
    "\n",
    "mlb_list = ['AL East', 'AL Central', 'AL West', 'NL East']\n",
    "print(\"Orginal list:\", mlb_list)\n",
    "\n",
    "# Append an item to your list (again, can be a string, number)\n",
    "\n",
    "mlb_list.append(\"NL Central\")\n",
    "mlb_list.append(\"NL West\")\n",
    "print('Appended list:', mlb_list)\n",
    "\n",
    "# Create a tuple with 4 items (can be strings, numbers, both)\n",
    "\n",
    "t = ('apple', 5, 'orange', 10)\n",
    "print(\"Tuple:\", t)"
   ]
  },
  {
   "cell_type": "code",
   "execution_count": null,
   "id": "47ecff50",
   "metadata": {},
   "outputs": [],
   "source": []
  }
 ],
 "metadata": {
  "kernelspec": {
   "display_name": "Python 3 (ipykernel)",
   "language": "python",
   "name": "python3"
  },
  "language_info": {
   "codemirror_mode": {
    "name": "ipython",
    "version": 3
   },
   "file_extension": ".py",
   "mimetype": "text/x-python",
   "name": "python",
   "nbconvert_exporter": "python",
   "pygments_lexer": "ipython3",
   "version": "3.11.4"
  }
 },
 "nbformat": 4,
 "nbformat_minor": 5
}
